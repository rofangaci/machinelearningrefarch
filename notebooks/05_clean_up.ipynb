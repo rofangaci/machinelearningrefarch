{
 "cells": [
  {
   "cell_type": "markdown",
   "metadata": {},
   "source": [
    "# Clean up\n",
    "\n",
    "To clean up our resources, we'll do the following:\n",
    "1. Delete all resources in Azure - we can do this simply by removing our resource group where we've stored all our resources in\n",
    "2. Clean up our local repository\n",
    "3. Delete the service principle\n",
    "5. Optionally delete the dotenv file too"
   ]
  },
  {
   "cell_type": "markdown",
   "metadata": {},
   "source": [
    "---"
   ]
  },
  {
   "cell_type": "code",
   "execution_count": 1,
   "metadata": {},
   "outputs": [
    {
     "data": {
      "text/plain": [
       "True"
      ]
     },
     "execution_count": 1,
     "metadata": {},
     "output_type": "execute_result"
    }
   ],
   "source": [
    "from dotenv import get_key, find_dotenv, load_dotenv\n",
    "env_path = find_dotenv(raise_error_if_not_found=True)\n",
    "load_dotenv(env_path)"
   ]
  },
  {
   "cell_type": "markdown",
   "metadata": {},
   "source": [
    "Clean up Azure resources. The `--no-wait` flag means that it will run the command without waiting (async). `--yes` will bypass prompts for confirmation."
   ]
  },
  {
   "cell_type": "code",
   "execution_count": 2,
   "metadata": {},
   "outputs": [],
   "source": [
    "!az group delete --resource-group {get_key(env_path, \"RESOURCE_GROUP\")} --no-wait --yes"
   ]
  },
  {
   "cell_type": "markdown",
   "metadata": {},
   "source": [
    "Clean up the local repository: Run the `clean_up.sh` script. This will remove all temporary directories that were generated as well as any configuration that were created during the tutorials. This script will _not_ remove the `.env` file."
   ]
  },
  {
   "cell_type": "code",
   "execution_count": 3,
   "metadata": {},
   "outputs": [
    {
     "name": "stdout",
     "output_type": "stream",
     "text": [
      "rm: cannot remove '*.mp4.*': No such file or directory\r\n",
      "rm: cannot remove '*.mp3': No such file or directory\r\n"
     ]
    }
   ],
   "source": [
    "!./clean_up.sh"
   ]
  },
  {
   "cell_type": "markdown",
   "metadata": {},
   "source": [
    "(optionally) Delete the `.env` file.  You will want to save your `.env` file if you plan on recreating this setup."
   ]
  },
  {
   "cell_type": "code",
   "execution_count": 5,
   "metadata": {},
   "outputs": [],
   "source": [
    "!rm .env"
   ]
  }
 ],
 "metadata": {
  "kernelspec": {
   "display_name": "Python [conda env:batchscoringdl_aml]",
   "language": "python",
   "name": "conda-env-batchscoringdl_aml-py"
  },
  "language_info": {
   "codemirror_mode": {
    "name": "ipython",
    "version": 3
   },
   "file_extension": ".py",
   "mimetype": "text/x-python",
   "name": "python",
   "nbconvert_exporter": "python",
   "pygments_lexer": "ipython3",
   "version": "3.6.7"
  }
 },
 "nbformat": 4,
 "nbformat_minor": 2
}
